{
 "cells": [
  {
   "cell_type": "markdown",
   "id": "47deace8",
   "metadata": {},
   "source": [
    "# Azure AI Agent Service - Agent Creation (Programmatic)\n",
    "\n",
    "Notebook contains logic for creating three agents (Analyst, Reviewer, Formatter) which will be used in coordination for analyzing complex documents. Users will have to opportunity to further edit these agent instructions either directly via the Azure AI Foundry portal, or from a provided UI with editable instruction windows.\n",
    "\n",
    "Note: You can also manually create these agents in the Foundry UI and capture the IDs"
   ]
  },
  {
   "cell_type": "code",
   "execution_count": 3,
   "id": "81cdcf4c",
   "metadata": {},
   "outputs": [
    {
     "data": {
      "text/plain": [
       "True"
      ]
     },
     "execution_count": 3,
     "metadata": {},
     "output_type": "execute_result"
    }
   ],
   "source": [
    "import json\n",
    "\n",
    "import os, time\n",
    "from azure.ai.projects import AIProjectClient\n",
    "from azure.identity import DefaultAzureCredential\n",
    "from azure.ai.projects.models import MessageTextContent\n",
    "from azure.ai.projects.models import CodeInterpreterTool, MessageAttachment\n",
    "from azure.ai.projects.models import FilePurpose\n",
    "from pathlib import Path\n",
    "from opentelemetry import trace\n",
    "from azure.monitor.opentelemetry import configure_azure_monitor\n",
    "import base64\n",
    "\n",
    "from azure.ai.projects.models import (\n",
    "    AgentEventHandler,\n",
    "    FunctionTool,\n",
    "    MessageDeltaChunk,\n",
    "    RequiredFunctionToolCall,\n",
    "    RunStep,\n",
    "    RunStepStatus,\n",
    "    SubmitToolOutputsAction,\n",
    "    ThreadMessage,\n",
    "    ThreadRun,\n",
    "    ToolOutput,\n",
    "    BingGroundingTool\n",
    ")\n",
    "from typing import Any\n",
    "from dotenv import load_dotenv\n",
    "\n",
    "load_dotenv('../.env', override=True)"
   ]
  },
  {
   "cell_type": "markdown",
   "id": "12111e85",
   "metadata": {},
   "source": [
    "### Create connection to Azure AI Foundry"
   ]
  },
  {
   "cell_type": "code",
   "execution_count": 4,
   "id": "278e8caf",
   "metadata": {},
   "outputs": [],
   "source": [
    "project_client = AIProjectClient.from_connection_string(\n",
    "    credential=DefaultAzureCredential(),\n",
    "    conn_str=os.environ['AZURE_AI_FOUNDRY_CONNECTION_STRING'],\n",
    ")"
   ]
  },
  {
   "cell_type": "markdown",
   "id": "a8eeb899",
   "metadata": {},
   "source": [
    "### Define and Create Agents\n",
    "\n",
    "Note: after creation, you can reference these agents by ID in your FastAPI app"
   ]
  },
  {
   "cell_type": "code",
   "execution_count": null,
   "id": "bfc7f0ea",
   "metadata": {},
   "outputs": [],
   "source": [
    "analyst_agent = project_client.agents.create_agent(\n",
    "    model=\"gpt-4o\",\n",
    "    name=\"cda-analyst-agent\",\n",
    "    instructions=f\"\"\"You are an AI assistant responsible for extracting targeted information from complex documents.\n",
    "\n",
    "You will receive scanned images of the document along with an OCR extract of diagram text provided by Azure Document Intelligence in markdown format.\n",
    "\n",
    "Your task is to review the provided information and create a JSON extract adhering to the schema provided below.\n",
    "\n",
    "You may be asked to refine an existing extract based on feedback from an independent reviewer. In that case, incorporate those suggestions into your final extract.\n",
    "\n",
    "# RULES:\n",
    "1. When completing the extraction template, you **must** use text from the provided OCR results to avoid transcription errors.  \n",
    "2. Your final response should consist of **only** JSON matching the template schema below.\"\"\",\n",
    "    temperature=0.0,\n",
    "    headers={\"x-ms-enable-preview\": \"true\"}\n",
    ")\n",
    "\n",
    "reviewer_agent = project_client.agents.create_agent(\n",
    "    model=\"gpt-4o\",\n",
    "    name=\"cda-reviewer-agent\",\n",
    "    instructions='''You are an AI assistant responsible for reviewing and approving the extraction of targeted information from complex documents.\n",
    "\n",
    "You will be provided with:\n",
    "- A JSON extract of targeted information\n",
    "- Images of the document\n",
    "- A raw OCR extract of the product diagram (in Markdown format)\n",
    "- Key-value pairs provided by Azure Document Intelligence\n",
    "\n",
    "The template below shows the schema of the JSON extract you will receive for review.\n",
    "\n",
    "Your task is to review the provided extract alongside the image and OCR data to determine whether the information has been extracted correctly.\n",
    "\n",
    "- If the extraction is complete and accurate, set the `\"complete\"` field to `TRUE`.\n",
    "- If the only errors in the extraction are on fields listed in **Reviewed Fields**, also set the `\"complete\"` field to `TRUE`.\n",
    "- If the extraction is incomplete or contains inaccuracies for fields *not* listed in **Reviewed Fields**, you must provide feedback on the specific fields that need correction.\n",
    "\n",
    "# RULES:\n",
    "1. Any missing fields must have `null` in their place.  \n",
    "2. Use the OCR text to verify the extracted values, ensuring that characters are correct.  \n",
    "3. If the extraction is complete, set `\"complete\"` to `TRUE`.  \n",
    "4. **Do not provide feedback** on fields listed in the **Reviewed Fields** list.  \n",
    "5. You must provide your rationale describing why you gave the feedback, ensuring there is no conflicting information.\n",
    "\n",
    "\n",
    "Your final response should be **only a single JSON object** consisting of the structure below:\n",
    "\n",
    "```json\n",
    "{\n",
    "  \"complete\": <TRUE or FALSE>,\n",
    "  \"errors\": [\n",
    "    {\n",
    "      \"field\": \"<FIELD_NAME>\",\n",
    "      \"message\": \"<ERROR_MESSAGE>\"\n",
    "    }\n",
    "    // ... Repeat as necessary for other erroneous fields\n",
    "  ],\n",
    "  \"rationale\": \"<YOUR_REASONING_FOR_THE_FEEDBACK_ABOVE>\"\n",
    "}\n",
    "```\n",
    "''',\n",
    "    temperature=0.0,\n",
    "    headers={\"x-ms-enable-preview\": \"true\"}\n",
    ")\n",
    "\n",
    "formatter_agent = project_client.agents.create_agent(\n",
    "    model=\"gpt-4o\",\n",
    "    name=\"cda-formatter-agent\",\n",
    "    instructions=f\"\"\"You are an AI assistant who is responsible for ensuring a data extract is appropriately formatted according to the conventions provided to you.\n",
    "\n",
    "Below, you will be provided with the current document extract, along with an expected template including data types and examples.\n",
    "\n",
    "Update and return the current extract ensuring that all data is formatted according to the expected template.\n",
    "\n",
    "Your final response should be **only a single JSON object**.\"\"\",\n",
    "    temperature=0.0,\n",
    "    headers={\"x-ms-enable-preview\": \"true\"}\n",
    ")"
   ]
  },
  {
   "cell_type": "markdown",
   "id": "3c890d43",
   "metadata": {},
   "source": [
    "### Update `.env` file"
   ]
  },
  {
   "cell_type": "code",
   "execution_count": null,
   "id": "901fa7e9",
   "metadata": {},
   "outputs": [
    {
     "ename": "",
     "evalue": "",
     "output_type": "error",
     "traceback": [
      "\u001b[1;31mThe Kernel crashed while executing code in the current cell or a previous cell. \n",
      "\u001b[1;31mPlease review the code in the cell(s) to identify a possible cause of the failure. \n",
      "\u001b[1;31mClick <a href='https://aka.ms/vscodeJupyterKernelCrash'>here</a> for more info. \n",
      "\u001b[1;31mView Jupyter <a href='command:jupyter.viewOutput'>log</a> for further details."
     ]
    }
   ],
   "source": [
    "env_lines = open('../.env').readlines()\n",
    "\n",
    "env_lines.append(f\"ANALYST_AGENT_ID='{analyst_agent.id}'\\n\")\n",
    "env_lines.append(f\"REVIEWER_AGENT_ID='{reviewer_agent.id}'\\n\")    \n",
    "env_lines.append(f\"FORMATTER_AGENT_ID='{formatter_agent.id}'\\n\")\n",
    "with open('../.env', 'w') as f:\n",
    "    f.writelines(env_lines)"
   ]
  }
 ],
 "metadata": {
  "kernelspec": {
   "display_name": "Python 3",
   "language": "python",
   "name": "python3"
  },
  "language_info": {
   "codemirror_mode": {
    "name": "ipython",
    "version": 3
   },
   "file_extension": ".py",
   "mimetype": "text/x-python",
   "name": "python",
   "nbconvert_exporter": "python",
   "pygments_lexer": "ipython3",
   "version": "3.11.9"
  }
 },
 "nbformat": 4,
 "nbformat_minor": 5
}
